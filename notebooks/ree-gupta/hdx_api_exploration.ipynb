{
 "cells": [
  {
   "cell_type": "markdown",
   "metadata": {},
   "source": [
    "# HDX Python API\n",
    "\n",
    "This notebook is a little documentation on the hdx python API. Feel free to edit and add your insights!\n",
    "\n",
    "[The Humanitarian Data Exchange (HDX)](https://data.humdata.org/) makes use of [CKAN tool](https://docs.ckan.org/en/2.9/user-guide.html#what-is-ckan) to publish its data.\n",
    "\n",
    "- Documentation: https://hdx-python-api.readthedocs.io/en/latest/\n",
    "- API: https://docs.ckan.org/en/2.9/api/legacy-api.html?highlight=search#search-resources\n",
    "\n",
    "The code snippets here explores the hdx python api and \"Dataset\" object returned by it.\n",
    "\n",
    "The notebook makes use of only one Dataset referenced by 'kenya-who-is-doing-what-and-where-2017' for the exploration."
   ]
  },
  {
   "cell_type": "code",
   "execution_count": 27,
   "metadata": {},
   "outputs": [
    {
     "name": "stdout",
     "output_type": "stream",
     "text": [
      "Defaulting to user installation because normal site-packages is not writeable\n",
      "Requirement already satisfied: hdx-python-api==5.9.3 in /home/gupta/.local/lib/python3.10/site-packages (5.9.3)\n",
      "Requirement already satisfied: pyOpenSSL in /home/gupta/.local/lib/python3.10/site-packages (from hdx-python-api==5.9.3) (22.1.0)\n",
      "Requirement already satisfied: quantulum3 in /home/gupta/.local/lib/python3.10/site-packages (from hdx-python-api==5.9.3) (0.7.11)\n",
      "Requirement already satisfied: pyasn1 in /home/gupta/.local/lib/python3.10/site-packages (from hdx-python-api==5.9.3) (0.4.8)\n",
      "Requirement already satisfied: ndg-httpsclient in /home/gupta/.local/lib/python3.10/site-packages (from hdx-python-api==5.9.3) (0.5.1)\n",
      "Requirement already satisfied: defopt>=6.4.0 in /home/gupta/.local/lib/python3.10/site-packages (from hdx-python-api==5.9.3) (6.4.0)\n",
      "Requirement already satisfied: hdx-python-country>=3.4.4 in /home/gupta/.local/lib/python3.10/site-packages (from hdx-python-api==5.9.3) (3.4.4)\n",
      "Requirement already satisfied: email-validator in /home/gupta/.local/lib/python3.10/site-packages (from hdx-python-api==5.9.3) (1.3.0)\n",
      "Requirement already satisfied: ckanapi>=4.7 in /home/gupta/.local/lib/python3.10/site-packages (from hdx-python-api==5.9.3) (4.7)\n",
      "Requirement already satisfied: makefun in /home/gupta/.local/lib/python3.10/site-packages (from hdx-python-api==5.9.3) (1.15.0)\n",
      "Requirement already satisfied: python-slugify>=1.0 in /home/gupta/.local/lib/python3.10/site-packages (from ckanapi>=4.7->hdx-python-api==5.9.3) (7.0.0)\n",
      "Requirement already satisfied: six<2.0,>=1.9 in /usr/lib/python3/dist-packages (from ckanapi>=4.7->hdx-python-api==5.9.3) (1.16.0)\n",
      "Requirement already satisfied: requests in /usr/lib/python3/dist-packages (from ckanapi>=4.7->hdx-python-api==5.9.3) (2.25.1)\n",
      "Requirement already satisfied: setuptools in /usr/lib/python3/dist-packages (from ckanapi>=4.7->hdx-python-api==5.9.3) (59.6.0)\n",
      "Requirement already satisfied: docopt in /home/gupta/.local/lib/python3.10/site-packages (from ckanapi>=4.7->hdx-python-api==5.9.3) (0.6.2)\n",
      "Requirement already satisfied: docutils>=0.12 in /usr/lib/python3/dist-packages (from defopt>=6.4.0->hdx-python-api==5.9.3) (0.17.1)\n",
      "Requirement already satisfied: sphinxcontrib-napoleon>=0.7.0 in /home/gupta/.local/lib/python3.10/site-packages (from defopt>=6.4.0->hdx-python-api==5.9.3) (0.7)\n",
      "Requirement already satisfied: libhxl>=4.27.2 in /home/gupta/.local/lib/python3.10/site-packages (from hdx-python-country>=3.4.4->hdx-python-api==5.9.3) (4.27.2)\n",
      "Requirement already satisfied: hdx-python-utilities>=3.4.8 in /home/gupta/.local/lib/python3.10/site-packages (from hdx-python-country>=3.4.4->hdx-python-api==5.9.3) (3.4.8)\n",
      "Requirement already satisfied: pyphonetics in /home/gupta/.local/lib/python3.10/site-packages (from hdx-python-country>=3.4.4->hdx-python-api==5.9.3) (0.5.3)\n",
      "Requirement already satisfied: idna>=2.0.0 in /usr/lib/python3/dist-packages (from email-validator->hdx-python-api==5.9.3) (3.3)\n",
      "Requirement already satisfied: dnspython>=1.15.0 in /usr/lib/python3/dist-packages (from email-validator->hdx-python-api==5.9.3) (2.1.0)\n",
      "Requirement already satisfied: cryptography<39,>=38.0.0 in /home/gupta/.local/lib/python3.10/site-packages (from pyOpenSSL->hdx-python-api==5.9.3) (38.0.4)\n",
      "Requirement already satisfied: inflect in /home/gupta/.local/lib/python3.10/site-packages (from quantulum3->hdx-python-api==5.9.3) (6.0.2)\n",
      "Requirement already satisfied: num2words in /home/gupta/.local/lib/python3.10/site-packages (from quantulum3->hdx-python-api==5.9.3) (0.5.12)\n",
      "Requirement already satisfied: cffi>=1.12 in /home/gupta/.local/lib/python3.10/site-packages (from cryptography<39,>=38.0.0->pyOpenSSL->hdx-python-api==5.9.3) (1.15.1)\n",
      "Requirement already satisfied: ijson>=3.0 in /home/gupta/.local/lib/python3.10/site-packages (from hdx-python-utilities>=3.4.8->hdx-python-country>=3.4.4->hdx-python-api==5.9.3) (3.1.4)\n",
      "Requirement already satisfied: python-dateutil==2.8.2 in /home/gupta/.local/lib/python3.10/site-packages (from hdx-python-utilities>=3.4.8->hdx-python-country>=3.4.4->hdx-python-api==5.9.3) (2.8.2)\n",
      "Requirement already satisfied: jsonlines>=1.2 in /home/gupta/.local/lib/python3.10/site-packages (from hdx-python-utilities>=3.4.8->hdx-python-country>=3.4.4->hdx-python-api==5.9.3) (3.1.0)\n",
      "Requirement already satisfied: tableschema-to-template>=0.0.12 in /home/gupta/.local/lib/python3.10/site-packages (from hdx-python-utilities>=3.4.8->hdx-python-country>=3.4.4->hdx-python-api==5.9.3) (0.0.12)\n",
      "Requirement already satisfied: xlwt>=1.2 in /home/gupta/.local/lib/python3.10/site-packages (from hdx-python-utilities>=3.4.8->hdx-python-country>=3.4.4->hdx-python-api==5.9.3) (1.3.0)\n",
      "Requirement already satisfied: requests-file in /home/gupta/.local/lib/python3.10/site-packages (from hdx-python-utilities>=3.4.8->hdx-python-country>=3.4.4->hdx-python-api==5.9.3) (1.5.1)\n",
      "Requirement already satisfied: xlrd>=1.2 in /home/gupta/.local/lib/python3.10/site-packages (from hdx-python-utilities>=3.4.8->hdx-python-country>=3.4.4->hdx-python-api==5.9.3) (2.0.1)\n",
      "Requirement already satisfied: openpyxl>=3.0 in /home/gupta/.local/lib/python3.10/site-packages (from hdx-python-utilities>=3.4.8->hdx-python-country>=3.4.4->hdx-python-api==5.9.3) (3.0.10)\n",
      "Requirement already satisfied: loguru in /home/gupta/.local/lib/python3.10/site-packages (from hdx-python-utilities>=3.4.8->hdx-python-country>=3.4.4->hdx-python-api==5.9.3) (0.6.0)\n",
      "Requirement already satisfied: frictionless>=4.40.8 in /home/gupta/.local/lib/python3.10/site-packages (from hdx-python-utilities>=3.4.8->hdx-python-country>=3.4.4->hdx-python-api==5.9.3) (4.40.8)\n",
      "Requirement already satisfied: ratelimit in /home/gupta/.local/lib/python3.10/site-packages (from hdx-python-utilities>=3.4.8->hdx-python-country>=3.4.4->hdx-python-api==5.9.3) (2.2.1)\n",
      "Requirement already satisfied: ruamel.yaml in /home/gupta/.local/lib/python3.10/site-packages (from hdx-python-utilities>=3.4.8->hdx-python-country>=3.4.4->hdx-python-api==5.9.3) (0.17.21)\n",
      "Requirement already satisfied: xlrd3==1.1.0 in /home/gupta/.local/lib/python3.10/site-packages (from libhxl>=4.27.2->hdx-python-country>=3.4.4->hdx-python-api==5.9.3) (1.1.0)\n",
      "Requirement already satisfied: urllib3<1.27,>=1.21.1 in /usr/lib/python3/dist-packages (from libhxl>=4.27.2->hdx-python-country>=3.4.4->hdx-python-api==5.9.3) (1.26.5)\n",
      "Requirement already satisfied: requests-cache in /home/gupta/.local/lib/python3.10/site-packages (from libhxl>=4.27.2->hdx-python-country>=3.4.4->hdx-python-api==5.9.3) (0.9.7)\n",
      "Requirement already satisfied: structlog==22.1.0 in /home/gupta/.local/lib/python3.10/site-packages (from libhxl>=4.27.2->hdx-python-country>=3.4.4->hdx-python-api==5.9.3) (22.1.0)\n",
      "Requirement already satisfied: python-io-wrapper>=0.2 in /home/gupta/.local/lib/python3.10/site-packages (from libhxl>=4.27.2->hdx-python-country>=3.4.4->hdx-python-api==5.9.3) (0.3.1)\n",
      "Requirement already satisfied: jsonpath-ng in /home/gupta/.local/lib/python3.10/site-packages (from libhxl>=4.27.2->hdx-python-country>=3.4.4->hdx-python-api==5.9.3) (1.5.3)\n",
      "Requirement already satisfied: wheel in /usr/lib/python3/dist-packages (from libhxl>=4.27.2->hdx-python-country>=3.4.4->hdx-python-api==5.9.3) (0.37.1)\n",
      "Requirement already satisfied: ply in /usr/lib/python3/dist-packages (from libhxl>=4.27.2->hdx-python-country>=3.4.4->hdx-python-api==5.9.3) (3.11)\n",
      "Requirement already satisfied: unidecode in /home/gupta/.local/lib/python3.10/site-packages (from libhxl>=4.27.2->hdx-python-country>=3.4.4->hdx-python-api==5.9.3) (1.3.6)\n",
      "Requirement already satisfied: text-unidecode>=1.3 in /home/gupta/.local/lib/python3.10/site-packages (from python-slugify>=1.0->ckanapi>=4.7->hdx-python-api==5.9.3) (1.3)\n",
      "Requirement already satisfied: pockets>=0.3 in /home/gupta/.local/lib/python3.10/site-packages (from sphinxcontrib-napoleon>=0.7.0->defopt>=6.4.0->hdx-python-api==5.9.3) (0.9.1)\n",
      "Requirement already satisfied: pydantic>=1.9.1 in /home/gupta/.local/lib/python3.10/site-packages (from inflect->quantulum3->hdx-python-api==5.9.3) (1.10.2)\n",
      "Requirement already satisfied: pycparser in /home/gupta/.local/lib/python3.10/site-packages (from cffi>=1.12->cryptography<39,>=38.0.0->pyOpenSSL->hdx-python-api==5.9.3) (2.21)\n",
      "Requirement already satisfied: stringcase>=1.2 in /home/gupta/.local/lib/python3.10/site-packages (from frictionless>=4.40.8->hdx-python-utilities>=3.4.8->hdx-python-country>=3.4.4->hdx-python-api==5.9.3) (1.2.0)\n",
      "Requirement already satisfied: rfc3986>=1.4 in /home/gupta/.local/lib/python3.10/site-packages (from frictionless>=4.40.8->hdx-python-utilities>=3.4.8->hdx-python-country>=3.4.4->hdx-python-api==5.9.3) (2.0.0)\n",
      "Requirement already satisfied: jsonschema>=2.5 in /usr/lib/python3/dist-packages (from frictionless>=4.40.8->hdx-python-utilities>=3.4.8->hdx-python-country>=3.4.4->hdx-python-api==5.9.3) (3.2.0)\n",
      "Requirement already satisfied: isodate>=0.6 in /home/gupta/.local/lib/python3.10/site-packages (from frictionless>=4.40.8->hdx-python-utilities>=3.4.8->hdx-python-country>=3.4.4->hdx-python-api==5.9.3) (0.6.1)\n",
      "Requirement already satisfied: chardet>=3.0 in /usr/lib/python3/dist-packages (from frictionless>=4.40.8->hdx-python-utilities>=3.4.8->hdx-python-country>=3.4.4->hdx-python-api==5.9.3) (4.0.0)\n",
      "Requirement already satisfied: simpleeval>=0.9.11 in /home/gupta/.local/lib/python3.10/site-packages (from frictionless>=4.40.8->hdx-python-utilities>=3.4.8->hdx-python-country>=3.4.4->hdx-python-api==5.9.3) (0.9.12)\n",
      "Requirement already satisfied: petl>=1.6 in /home/gupta/.local/lib/python3.10/site-packages (from frictionless>=4.40.8->hdx-python-utilities>=3.4.8->hdx-python-country>=3.4.4->hdx-python-api==5.9.3) (1.7.12)\n",
      "Requirement already satisfied: pyyaml>=5.3 in /usr/lib/python3/dist-packages (from frictionless>=4.40.8->hdx-python-utilities>=3.4.8->hdx-python-country>=3.4.4->hdx-python-api==5.9.3) (5.4.1)\n",
      "Requirement already satisfied: jinja2>=3.0.3 in /usr/lib/python3/dist-packages (from frictionless>=4.40.8->hdx-python-utilities>=3.4.8->hdx-python-country>=3.4.4->hdx-python-api==5.9.3) (3.0.3)\n",
      "Requirement already satisfied: tabulate>=0.8.10 in /home/gupta/.local/lib/python3.10/site-packages (from frictionless>=4.40.8->hdx-python-utilities>=3.4.8->hdx-python-country>=3.4.4->hdx-python-api==5.9.3) (0.9.0)\n",
      "Requirement already satisfied: validators>=0.18 in /home/gupta/.local/lib/python3.10/site-packages (from frictionless>=4.40.8->hdx-python-utilities>=3.4.8->hdx-python-country>=3.4.4->hdx-python-api==5.9.3) (0.20.0)\n",
      "Requirement already satisfied: typer[all]>=0.5 in /home/gupta/.local/lib/python3.10/site-packages (from frictionless>=4.40.8->hdx-python-utilities>=3.4.8->hdx-python-country>=3.4.4->hdx-python-api==5.9.3) (0.7.0)\n",
      "Requirement already satisfied: marko>=1.0 in /home/gupta/.local/lib/python3.10/site-packages (from frictionless>=4.40.8->hdx-python-utilities>=3.4.8->hdx-python-country>=3.4.4->hdx-python-api==5.9.3) (1.2.2)\n",
      "Requirement already satisfied: attrs>=19.2.0 in /usr/lib/python3/dist-packages (from jsonlines>=1.2->hdx-python-utilities>=3.4.8->hdx-python-country>=3.4.4->hdx-python-api==5.9.3) (21.2.0)\n",
      "Requirement already satisfied: et-xmlfile in /home/gupta/.local/lib/python3.10/site-packages (from openpyxl>=3.0->hdx-python-utilities>=3.4.8->hdx-python-country>=3.4.4->hdx-python-api==5.9.3) (1.1.0)\n",
      "Requirement already satisfied: typing-extensions>=4.1.0 in /home/gupta/.local/lib/python3.10/site-packages (from pydantic>=1.9.1->inflect->quantulum3->hdx-python-api==5.9.3) (4.4.0)\n",
      "Requirement already satisfied: xlsxwriter>=1.2.8 in /home/gupta/.local/lib/python3.10/site-packages (from tableschema-to-template>=0.0.12->hdx-python-utilities>=3.4.8->hdx-python-country>=3.4.4->hdx-python-api==5.9.3) (3.0.3)\n",
      "Requirement already satisfied: decorator in /usr/lib/python3/dist-packages (from jsonpath-ng->libhxl>=4.27.2->hdx-python-country>=3.4.4->hdx-python-api==5.9.3) (4.4.2)\n",
      "Requirement already satisfied: appdirs>=1.4.4 in /usr/lib/python3/dist-packages (from requests-cache->libhxl>=4.27.2->hdx-python-country>=3.4.4->hdx-python-api==5.9.3) (1.4.4)\n",
      "Requirement already satisfied: cattrs>=22.2 in /home/gupta/.local/lib/python3.10/site-packages (from requests-cache->libhxl>=4.27.2->hdx-python-country>=3.4.4->hdx-python-api==5.9.3) (22.2.0)\n",
      "Requirement already satisfied: url-normalize>=1.4 in /home/gupta/.local/lib/python3.10/site-packages (from requests-cache->libhxl>=4.27.2->hdx-python-country>=3.4.4->hdx-python-api==5.9.3) (1.4.3)\n",
      "Requirement already satisfied: ruamel.yaml.clib>=0.2.6 in /home/gupta/.local/lib/python3.10/site-packages (from ruamel.yaml->hdx-python-utilities>=3.4.8->hdx-python-country>=3.4.4->hdx-python-api==5.9.3) (0.2.7)\n",
      "Requirement already satisfied: exceptiongroup in /home/gupta/.local/lib/python3.10/site-packages (from cattrs>=22.2->requests-cache->libhxl>=4.27.2->hdx-python-country>=3.4.4->hdx-python-api==5.9.3) (1.0.4)\n",
      "Requirement already satisfied: click<9.0.0,>=7.1.1 in /usr/lib/python3/dist-packages (from typer[all]>=0.5->frictionless>=4.40.8->hdx-python-utilities>=3.4.8->hdx-python-country>=3.4.4->hdx-python-api==5.9.3) (8.0.3)\n",
      "Requirement already satisfied: rich<13.0.0,>=10.11.0 in /home/gupta/.local/lib/python3.10/site-packages (from typer[all]>=0.5->frictionless>=4.40.8->hdx-python-utilities>=3.4.8->hdx-python-country>=3.4.4->hdx-python-api==5.9.3) (12.6.0)\n",
      "Requirement already satisfied: colorama<0.5.0,>=0.4.3 in /usr/lib/python3/dist-packages (from typer[all]>=0.5->frictionless>=4.40.8->hdx-python-utilities>=3.4.8->hdx-python-country>=3.4.4->hdx-python-api==5.9.3) (0.4.4)\n",
      "Requirement already satisfied: shellingham<2.0.0,>=1.3.0 in /home/gupta/.local/lib/python3.10/site-packages (from typer[all]>=0.5->frictionless>=4.40.8->hdx-python-utilities>=3.4.8->hdx-python-country>=3.4.4->hdx-python-api==5.9.3) (1.5.0)\n",
      "Requirement already satisfied: commonmark<0.10.0,>=0.9.0 in /home/gupta/.local/lib/python3.10/site-packages (from rich<13.0.0,>=10.11.0->typer[all]>=0.5->frictionless>=4.40.8->hdx-python-utilities>=3.4.8->hdx-python-country>=3.4.4->hdx-python-api==5.9.3) (0.9.1)\n",
      "Requirement already satisfied: pygments<3.0.0,>=2.6.0 in /usr/lib/python3/dist-packages (from rich<13.0.0,>=10.11.0->typer[all]>=0.5->frictionless>=4.40.8->hdx-python-utilities>=3.4.8->hdx-python-country>=3.4.4->hdx-python-api==5.9.3) (2.11.2)\n",
      "Note: you may need to restart the kernel to use updated packages.\n"
     ]
    }
   ],
   "source": [
    "# Installation of the api\n",
    "%pip install hdx-python-api==5.9.3 "
   ]
  },
  {
   "cell_type": "code",
   "execution_count": 28,
   "metadata": {},
   "outputs": [
    {
     "ename": "ConfigurationError",
     "evalue": "Configuration already created!",
     "output_type": "error",
     "traceback": [
      "\u001b[0;31m---------------------------------------------------------------------------\u001b[0m",
      "\u001b[0;31mConfigurationError\u001b[0m                        Traceback (most recent call last)",
      "\u001b[0;32m/tmp/ipykernel_175309/4205799461.py\u001b[0m in \u001b[0;36m<module>\u001b[0;34m\u001b[0m\n\u001b[1;32m     10\u001b[0m \u001b[0msetup_logging\u001b[0m\u001b[0;34m(\u001b[0m\u001b[0;34m)\u001b[0m\u001b[0;34m\u001b[0m\u001b[0;34m\u001b[0m\u001b[0m\n\u001b[1;32m     11\u001b[0m \u001b[0;34m\u001b[0m\u001b[0m\n\u001b[0;32m---> 12\u001b[0;31m \u001b[0mConfiguration\u001b[0m\u001b[0;34m.\u001b[0m\u001b[0mcreate\u001b[0m\u001b[0;34m(\u001b[0m\u001b[0mhdx_site\u001b[0m\u001b[0;34m=\u001b[0m\u001b[0;34m\"prod\"\u001b[0m\u001b[0;34m,\u001b[0m \u001b[0muser_agent\u001b[0m\u001b[0;34m=\u001b[0m\u001b[0;34m\"A_Quick_Example\"\u001b[0m\u001b[0;34m,\u001b[0m \u001b[0mhdx_read_only\u001b[0m\u001b[0;34m=\u001b[0m\u001b[0;32mTrue\u001b[0m\u001b[0;34m)\u001b[0m\u001b[0;34m\u001b[0m\u001b[0;34m\u001b[0m\u001b[0m\n\u001b[0m",
      "\u001b[0;32m~/.local/lib/python3.10/site-packages/hdx/api/configuration.py\u001b[0m in \u001b[0;36mcreate\u001b[0;34m(cls, configuration, remoteckan, **kwargs)\u001b[0m\n\u001b[1;32m    644\u001b[0m         \"\"\"\n\u001b[1;32m    645\u001b[0m         \u001b[0;32mif\u001b[0m \u001b[0mcls\u001b[0m\u001b[0;34m.\u001b[0m\u001b[0m_configuration\u001b[0m \u001b[0;32mis\u001b[0m \u001b[0;32mnot\u001b[0m \u001b[0;32mNone\u001b[0m\u001b[0;34m:\u001b[0m\u001b[0;34m\u001b[0m\u001b[0;34m\u001b[0m\u001b[0m\n\u001b[0;32m--> 646\u001b[0;31m             \u001b[0;32mraise\u001b[0m \u001b[0mConfigurationError\u001b[0m\u001b[0;34m(\u001b[0m\u001b[0;34m\"Configuration already created!\"\u001b[0m\u001b[0;34m)\u001b[0m\u001b[0;34m\u001b[0m\u001b[0;34m\u001b[0m\u001b[0m\n\u001b[0m\u001b[1;32m    647\u001b[0m         return cls._create(\n\u001b[1;32m    648\u001b[0m             \u001b[0mconfiguration\u001b[0m\u001b[0;34m=\u001b[0m\u001b[0mconfiguration\u001b[0m\u001b[0;34m,\u001b[0m \u001b[0mremoteckan\u001b[0m\u001b[0;34m=\u001b[0m\u001b[0mremoteckan\u001b[0m\u001b[0;34m,\u001b[0m \u001b[0;34m**\u001b[0m\u001b[0mkwargs\u001b[0m\u001b[0;34m\u001b[0m\u001b[0;34m\u001b[0m\u001b[0m\n",
      "\u001b[0;31mConfigurationError\u001b[0m: Configuration already created!"
     ]
    }
   ],
   "source": [
    "# Importing required libraraies from hdx\n",
    "from hdx.utilities.easy_logging import setup_logging\n",
    "from hdx.api.configuration import Configuration\n",
    "from hdx.data.dataset import Dataset\n",
    "\n",
    "# Logging in and getting read only access to https://data.humdata.org\n",
    "# Read more about API Access token in documentation at https://hdx-python-api.readthedocs.io/en/latest/\n",
    "# for writing access.\n",
    "\n",
    "setup_logging()\n",
    "\n",
    "Configuration.create(hdx_site=\"prod\", user_agent=\"A_Quick_Example\", hdx_read_only=True)"
   ]
  },
  {
   "cell_type": "code",
   "execution_count": null,
   "metadata": {},
   "outputs": [
    {
     "name": "stdout",
     "output_type": "stream",
     "text": [
      "<class 'abc.ABCMeta'>\n"
     ]
    },
    {
     "data": {
      "text/plain": [
       "dict_keys(['__module__', '__doc__', 'max_attempts', 'max_int', 'update_frequencies', '__init__', 'actions', '__setitem__', 'separate_resources', 'unseparate_resources', 'get_dataset_dict', 'save_to_json', 'load_from_json', 'init_resources', '_get_resource_from_obj', 'add_update_resource', 'add_update_resources', 'delete_resource', 'get_resources', 'get_resource', 'number_of_resources', 'reorder_resources', 'update_from_yaml', 'update_from_json', 'read_from_hdx', '_dataset_create_resources', '_dataset_load_from_hdx', 'check_required_fields', 'revise', '_save_dataset_add_filestore_resources', '_dataset_merge_hdx_update', 'update_in_hdx', 'create_in_hdx', 'delete_from_hdx', 'hxl_update', 'search_in_hdx', 'get_all_dataset_names', 'get_all_datasets', 'get_all_resources', 'autocomplete', 'get_date_of_dataset', 'set_date_of_dataset', 'set_dataset_year_range', 'list_valid_update_frequencies', 'transform_update_frequency', 'get_expected_update_frequency', 'set_expected_update_frequency', 'get_tags', 'add_tag', 'add_tags', 'clean_tags', 'remove_tag', 'is_subnational', 'set_subnational', 'get_location_iso3s', 'get_location_names', 'add_country_location', 'add_country_locations', 'add_region_location', 'add_other_location', 'remove_location', 'get_maintainer', 'set_maintainer', 'get_organization', 'set_organization', 'get_showcases', '_get_dataset_showcase_dict', 'add_showcase', 'add_showcases', 'remove_showcase', 'is_requestable', 'set_requestable', 'get_fieldnames', 'add_fieldname', 'add_fieldnames', 'remove_fieldname', 'get_filetypes', 'add_filetype', 'add_filetypes', 'remove_filetype', 'preview_off', 'preview_resource', 'set_quickchart_resource', 'quickcharts_resource_last', 'create_default_views', '_create_preview_resourceview', '_generate_resource_view', 'generate_resource_view', 'get_hdx_url', 'remove_dates_from_title', 'generate_resource_from_rows', 'generate_qc_resource_from_rows', 'generate_resource_from_iterator', 'download_and_generate_resource', '__abstractmethods__', '_abc_impl'])"
      ]
     },
     "execution_count": 7,
     "metadata": {},
     "output_type": "execute_result"
    }
   ],
   "source": [
    "# Looking at class attributes for Database\n",
    "\n",
    "print(type(Dataset))\n",
    "Dataset.__dict__.keys()"
   ]
  },
  {
   "cell_type": "code",
   "execution_count": null,
   "metadata": {},
   "outputs": [
    {
     "name": "stdout",
     "output_type": "stream",
     "text": [
      "<class 'hdx.data.dataset.Dataset'>\n"
     ]
    },
    {
     "data": {
      "text/plain": [
       "dict_keys(['resources', 'old_data', 'configuration', 'data', 'preview_resourceview'])"
      ]
     },
     "execution_count": 14,
     "metadata": {},
     "output_type": "execute_result"
    }
   ],
   "source": [
    "hdx_dataset_key = 'kenya-who-is-doing-what-and-where-2017'\n",
    "\n",
    "# Reading the dataset from hdx\n",
    "hdx_dataset = Dataset.read_from_hdx(hdx_dataset_key)\n",
    "\n",
    "# print(hdx_dataset)\n",
    "\n",
    "# Looking at class attributes for dataset class \n",
    "print(type(hdx_dataset))\n",
    "hdx_dataset.__dict__.keys()\n"
   ]
  },
  {
   "cell_type": "code",
   "execution_count": null,
   "metadata": {},
   "outputs": [
    {
     "name": "stdout",
     "output_type": "stream",
     "text": [
      "<class 'list'>\n"
     ]
    }
   ],
   "source": [
    "# Extracting resources from the dataset\n",
    "hdx_resources = hdx_dataset.resources\n",
    "\n",
    "# print(hdx_resources)\n",
    "\n",
    "# Looking at class attributes for resources \n",
    "print(type(hdx_resources))\n"
   ]
  },
  {
   "cell_type": "code",
   "execution_count": null,
   "metadata": {},
   "outputs": [
    {
     "name": "stdout",
     "output_type": "stream",
     "text": [
      "dict_keys(['archived', 'creator_user_id', 'data_update_frequency', 'dataset_date', 'dataset_preview', 'dataset_source', 'has_geodata', 'has_quickcharts', 'has_showcases', 'id', 'is_requestdata_type', 'isopen', 'last_modified', 'license_id', 'license_title', 'license_url', 'maintainer', 'metadata_created', 'metadata_modified', 'methodology', 'name', 'notes', 'num_resources', 'num_tags', 'organization', 'owner_org', 'package_creator', 'pageviews_last_14_days', 'private', 'qa_checklist', 'qa_completed', 'review_date', 'solr_additions', 'state', 'subnational', 'title', 'total_res_downloads', 'type', 'updated_by_script', 'url', 'version', 'groups', 'tags', 'relationships_as_subject', 'relationships_as_object', 'is_fresh', 'update_status', 'x_resource_grouping'])\n",
      "<class 'dict'>\n"
     ]
    }
   ],
   "source": [
    "# Extracting data from the dataset\n",
    "\n",
    "hdx_data = hdx_dataset.data\n",
    "\n",
    "# print(hdx_data)\n",
    "print(hdx_data.keys())\n",
    "\n",
    "# Looking at class attributes for data \n",
    "print(type(hdx_data))"
   ]
  },
  {
   "cell_type": "code",
   "execution_count": null,
   "metadata": {},
   "outputs": [
    {
     "name": "stdout",
     "output_type": "stream",
     "text": [
      "<class 'dict'>\n"
     ]
    }
   ],
   "source": [
    "# Extracting old data from the dataset\n",
    "hdx_old_data = hdx_dataset.old_data\n",
    "\n",
    "# print(hdx_old_data)\n",
    "\n",
    "# Looking at class attributes for old data \n",
    "print(type(hdx_old_data))"
   ]
  },
  {
   "cell_type": "code",
   "execution_count": null,
   "metadata": {},
   "outputs": [
    {
     "name": "stdout",
     "output_type": "stream",
     "text": [
      "ordereddict([('hdx_prod_site', ordereddict([('url', 'https://data.humdata.org')])), ('hdx_demo_site', ordereddict([('url', 'https://demo.data-humdata-org.ahconu.org')])), ('hdx_stage_site', ordereddict([('url', 'https://stage.data-humdata-org.ahconu.org')])), ('hdx_feature_site', ordereddict([('url', 'https://feature.data-humdata-org.ahconu.org')])), ('hdx_dev_site', ordereddict([('url', 'https://dev.data-humdata-org.ahconu.org')])), ('dataset', ordereddict([('required_fields', ['name', 'private', 'title', 'notes', 'dataset_source', 'owner_org', 'maintainer', 'dataset_date', 'data_update_frequency', 'groups', 'license_id', 'methodology', 'tags'])])), ('dataset-requestable', ordereddict([('required_fields', ['name', 'title', 'notes', 'dataset_source', 'owner_org', 'maintainer', 'dataset_date', 'data_update_frequency', 'groups', 'tags', 'field_names', 'file_types', 'num_of_rows'])])), ('resource', ordereddict([('required_fields', ['package_id', 'name', 'format', 'description', 'url_type', 'resource_type'])])), ('showcase', ordereddict([('required_fields', ['name', 'title', 'notes', 'url', 'image_url', 'tags'])])), ('user', ordereddict([('required_fields', ['name', 'email', 'password', 'fullname', 'about']), ('ignore_on_update', 'password')])), ('organization', ordereddict([('required_fields', ['name', 'title', 'description'])])), ('resource view', ordereddict([('required_fields', ['resource_id', 'title', 'view_type'])])), ('vocabulary', ordereddict([('required_fields', ['name', 'tags'])])), ('approved_tags_vocabulary', 'Topics'), ('tags_list_url', 'https://docs.google.com/spreadsheets/d/e/2PACX-1vRjeajloIuQl8mfTSHU71ZgbHSgYYUgHrLqyjHSuQJ-zMqS3SVM9hJqMs72L-84LQ/pub?gid=1739051517&single=true&output=csv'), ('tags_mapping_url', 'https://docs.google.com/spreadsheets/d/e/2PACX-1vRjeajloIuQl8mfTSHU71ZgbHSgYYUgHrLqyjHSuQJ-zMqS3SVM9hJqMs72L-84LQ/pub?gid=334970416&single=true&output=csv'), ('formats_mapping_url', 'https://raw.githubusercontent.com/OCHA-DAP/hdx-ckan/master/ckanext-hdx_package/ckanext/hdx_package/config/resource_formats.json')])\n",
      "<class 'hdx.api.configuration.Configuration'>\n"
     ]
    }
   ],
   "source": [
    "# Extracting configuration data from the dataset\n",
    "hdx_configuration = hdx_dataset.configuration\n",
    "\n",
    "# print(hdx_configuration)\n",
    "\n",
    "# Looking at class attributes for configuration \n",
    "print(type(hdx_configuration))"
   ]
  },
  {
   "cell_type": "code",
   "execution_count": null,
   "metadata": {},
   "outputs": [
    {
     "name": "stdout",
     "output_type": "stream",
     "text": [
      "None\n",
      "<class 'NoneType'>\n"
     ]
    }
   ],
   "source": [
    "# Extracting preview data from the dataset\n",
    "hdx_preview_resourceview = hdx_dataset.preview_resourceview\n",
    "\n",
    "# print(hdx_preview_resourceview)\n",
    "\n",
    "# Looking at class attributes for preview resource view \n",
    "print(type(hdx_preview_resourceview))\n"
   ]
  }
 ],
 "metadata": {
  "kernelspec": {
   "display_name": "Python 3.10.6 64-bit",
   "language": "python",
   "name": "python3"
  },
  "language_info": {
   "codemirror_mode": {
    "name": "ipython",
    "version": 3
   },
   "file_extension": ".py",
   "mimetype": "text/x-python",
   "name": "python",
   "nbconvert_exporter": "python",
   "pygments_lexer": "ipython3",
   "version": "3.10.6"
  },
  "orig_nbformat": 4,
  "vscode": {
   "interpreter": {
    "hash": "e7370f93d1d0cde622a1f8e1c04877d8463912d04d973331ad4851f04de6915a"
   }
  }
 },
 "nbformat": 4,
 "nbformat_minor": 2
}

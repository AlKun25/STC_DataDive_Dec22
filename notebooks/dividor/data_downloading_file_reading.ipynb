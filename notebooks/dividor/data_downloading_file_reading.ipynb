{
 "cells": [
  {
   "cell_type": "markdown",
   "metadata": {},
   "source": [
    "# Introduction\n",
    "\n",
    "Some handy examples showing how to automatically download files from the web and Google drive. The examples chosen are for the Save the Children stream of the DataKind 2022 DataDive.\n",
    "\n",
    "- [project brief](https://docs.google.com/document/d/1TQ2TiGK_k8KEIUPzVb3ZSKaxzEBP9s9ZJBI2U_HeQ6U/edit#)\n",
    "- [Google drive with data](https://drive.google.com/drive/folders/1G_CAhpb0xV9zRrV-T5ngA03x-IZ4tGKz)\n",
    "\n",
    "## Setup"
   ]
  },
  {
   "cell_type": "code",
   "execution_count": 1,
   "metadata": {},
   "outputs": [
    {
     "name": "stdout",
     "output_type": "stream",
     "text": [
      "Defaulting to user installation because normal site-packages is not writeable\n",
      "Collecting pandas\n",
      "  Downloading pandas-1.5.2.tar.gz (5.2 MB)\n",
      "\u001b[K     |████████████████████████████████| 5.2 MB 4.9 MB/s eta 0:00:01\n",
      "\u001b[?25h  Installing build dependencies ... \u001b[?25ldone\n",
      "\u001b[?25h  Getting requirements to build wheel ... \u001b[?25ldone\n",
      "\u001b[?25h    Preparing wheel metadata ... \u001b[?25ldone\n",
      "\u001b[?25hRequirement already satisfied: python-dateutil>=2.8.1 in /Users/matthewharris/Library/Python/3.8/lib/python/site-packages (from pandas) (2.8.2)\n",
      "Collecting pytz>=2020.1\n",
      "  Using cached pytz-2022.6-py2.py3-none-any.whl (498 kB)\n",
      "Collecting numpy>=1.20.3; python_version < \"3.10\"\n",
      "  Downloading numpy-1.23.5.tar.gz (10.7 MB)\n",
      "\u001b[K     |████████████████████████████████| 10.7 MB 13.1 MB/s eta 0:00:01\n",
      "\u001b[?25h  Installing build dependencies ... \u001b[?25ldone\n",
      "\u001b[?25h  Getting requirements to build wheel ... \u001b[?25ldone\n",
      "\u001b[?25h    Preparing wheel metadata ... \u001b[?25ldone\n",
      "\u001b[?25hRequirement already satisfied: six>=1.5 in /Library/Developer/CommandLineTools/Library/Frameworks/Python3.framework/Versions/3.8/lib/python3.8/site-packages (from python-dateutil>=2.8.1->pandas) (1.15.0)\n",
      "Building wheels for collected packages: pandas, numpy\n",
      "  Building wheel for pandas (PEP 517) ... \u001b[?25l-"
     ]
    }
   ],
   "source": [
    "# If you don't have these installed, uncomment these lines and run\n",
    "# %pip install gdown\n",
    "# %pip install pandas"
   ]
  },
  {
   "cell_type": "code",
   "execution_count": null,
   "metadata": {},
   "outputs": [
    {
     "ename": "",
     "evalue": "",
     "output_type": "error",
     "traceback": [
      "\u001b[1;31mRunning cells with 'Python ('dk_analysis')' requires ipykernel package.\n",
      "\u001b[1;31mRun the following command to install 'ipykernel' into the Python environment. \n",
      "\u001b[1;31mCommand: 'conda install -n dk_analysis ipykernel --update-deps --force-reinstall'"
     ]
    }
   ],
   "source": [
    "import gdown\n",
    "import os\n",
    "import pandas as pd"
   ]
  },
  {
   "cell_type": "markdown",
   "metadata": {},
   "source": [
    "## Examples\n",
    "### Downloading a single file from GDrive"
   ]
  },
  {
   "cell_type": "code",
   "execution_count": 8,
   "metadata": {},
   "outputs": [
    {
     "name": "stderr",
     "output_type": "stream",
     "text": [
      "/Users/matthewharris/Library/Python/3.8/lib/python/site-packages/gdown/parse_url.py:35: UserWarning: You specified a Google Drive link that is not the correct link to download a file. You might want to try `--fuzzy` option or the following url: https://drive.google.com/uc?id=None\n",
      "  warnings.warn(\n",
      "Downloading...\n",
      "From: https://docs.google.com/spreadsheets/d/1i41eQRgQatGbchbq2dcL6r9AVyndTSrl/edit?usp=share_link&ouid=106808949113099347741&rtpof=true&sd=true\n",
      "To: /Users/matthewharris/Desktop/git/STC_DataDive_Dec22/notebooks/dividor/kenya-3w-final-list-2017.xslx\n",
      "300kB [00:00, 3.45MB/s]\n"
     ]
    },
    {
     "data": {
      "text/plain": [
       "'kenya-3w-final-list-2017.xslx'"
      ]
     },
     "execution_count": 8,
     "metadata": {},
     "output_type": "execute_result"
    }
   ],
   "source": [
    "url_demo_data = \"https://docs.google.com/spreadsheets/d/1i41eQRgQatGbchbq2dcL6r9AVyndTSrl/edit?usp=share_link&ouid=106808949113099347741&rtpof=true&sd=true\"\n",
    "filename_demo_data = \"kenya-3w-final-list-2017.xslx\"\n",
    "gdown.download(url_demo_data, filename_demo_data, quiet=False)"
   ]
  },
  {
   "cell_type": "markdown",
   "metadata": {},
   "source": [
    "### Downloading a folder from gdrive\n",
    "\n",
    "Beware, 50 files maximum."
   ]
  },
  {
   "cell_type": "code",
   "execution_count": 9,
   "metadata": {},
   "outputs": [
    {
     "data": {
      "text/plain": [
       "['/Users/matthewharris/Desktop/git/STC_DataDive_Dec22/notebooks/dividor/Kenya/dbo-foodconsumptionscores.csv',\n",
       " '/Users/matthewharris/Desktop/git/STC_DataDive_Dec22/notebooks/dividor/Kenya/fts_incoming_funding_ken.csv',\n",
       " '/Users/matthewharris/Desktop/git/STC_DataDive_Dec22/notebooks/dividor/Kenya/fts_requirements_funding_cluster_ken.csv',\n",
       " '/Users/matthewharris/Desktop/git/STC_DataDive_Dec22/notebooks/dividor/Kenya/fts_requirements_funding_covid_ken.csv',\n",
       " '/Users/matthewharris/Desktop/git/STC_DataDive_Dec22/notebooks/dividor/Kenya/fts_requirements_funding_globalcluster_ken.csv',\n",
       " '/Users/matthewharris/Desktop/git/STC_DataDive_Dec22/notebooks/dividor/Kenya/fts_requirements_funding_ken.csv',\n",
       " '/Users/matthewharris/Desktop/git/STC_DataDive_Dec22/notebooks/dividor/Kenya/health_ken.csv',\n",
       " '/Users/matthewharris/Desktop/git/STC_DataDive_Dec22/notebooks/dividor/Kenya/hotosm_ken_roads_lines_shp.zip',\n",
       " '/Users/matthewharris/Desktop/git/STC_DataDive_Dec22/notebooks/dividor/Kenya/KE_202207.zip',\n",
       " '/Users/matthewharris/Desktop/git/STC_DataDive_Dec22/notebooks/dividor/Kenya/ken_adm_iebc_20191031_shp.zip',\n",
       " '/Users/matthewharris/Desktop/git/STC_DataDive_Dec22/notebooks/dividor/Kenya/ken_adminboundaries_tabulardata.xlsx',\n",
       " '/Users/matthewharris/Desktop/git/STC_DataDive_Dec22/notebooks/dividor/Kenya/ken_admpop_2019.xlsx',\n",
       " '/Users/matthewharris/Desktop/git/STC_DataDive_Dec22/notebooks/dividor/Kenya/ken_admpop_adm0_2019.csv',\n",
       " '/Users/matthewharris/Desktop/git/STC_DataDive_Dec22/notebooks/dividor/Kenya/ken_admpop_adm1_2019.csv',\n",
       " '/Users/matthewharris/Desktop/git/STC_DataDive_Dec22/notebooks/dividor/Kenya/Kenya - IPC Analysis 2017-2022.xlsx',\n",
       " '/Users/matthewharris/Desktop/git/STC_DataDive_Dec22/notebooks/dividor/Kenya/kenya-3w-final-list-2017.xlsx',\n",
       " '/Users/matthewharris/Desktop/git/STC_DataDive_Dec22/notebooks/dividor/Kenya/kenya-health-facilities-2017_08_02.xlsx',\n",
       " '/Users/matthewharris/Desktop/git/STC_DataDive_Dec22/notebooks/dividor/Kenya/kenyalivehoodshapefiles.zip',\n",
       " '/Users/matthewharris/Desktop/git/STC_DataDive_Dec22/notebooks/dividor/Kenya/per-capita-food-consumption-2017-and-2018.xlsx',\n",
       " '/Users/matthewharris/Desktop/git/STC_DataDive_Dec22/notebooks/dividor/Kenya/retail-prices-for-dry-beans-2017-per-kg.xlsx',\n",
       " '/Users/matthewharris/Desktop/git/STC_DataDive_Dec22/notebooks/dividor/Kenya/retail-prices-for-dry-beans-2018-per-kg.xlsx',\n",
       " '/Users/matthewharris/Desktop/git/STC_DataDive_Dec22/notebooks/dividor/Kenya/retail-prices-for-dry-beans-2019-per-kg.xlsx',\n",
       " '/Users/matthewharris/Desktop/git/STC_DataDive_Dec22/notebooks/dividor/Kenya/value-of-recorded-marketed-agricultural-production-at-current-prices-2014-2018.xlsx',\n",
       " '/Users/matthewharris/Desktop/git/STC_DataDive_Dec22/notebooks/dividor/Kenya/wfp_food_prices_ken.csv']"
      ]
     },
     "execution_count": 9,
     "metadata": {},
     "output_type": "execute_result"
    }
   ],
   "source": [
    "folder_url = \"https://drive.google.com/drive/folders/1G_CAhpb0xV9zRrV-T5ngA03x-IZ4tGKz?usp=share_link\"\n",
    "gdown.download_folder(folder_url, quiet=True, use_cookies=False)\n"
   ]
  },
  {
   "cell_type": "markdown",
   "metadata": {},
   "source": [
    "## Reading files in a directory to pandas\n",
    "\n",
    "This snippet will read all csv and xls files in a directory into pandas dataframes, create a list of them.\n",
    "\n",
    "Just an example, needs a bit more logic to handle xlsx files with multiple tabs."
   ]
  },
  {
   "cell_type": "code",
   "execution_count": 6,
   "metadata": {},
   "outputs": [
    {
     "name": "stdout",
     "output_type": "stream",
     "text": [
      "Loading csv file ./Kenya/fts_requirements_funding_covid_ken.csv\n",
      "Loading csv file ./Kenya/dbo-foodconsumptionscores.csv\n",
      "Loading csv file ./Kenya/wfp_food_prices_ken.csv\n",
      "Loading csv file ./Kenya/fts_requirements_funding_cluster_ken.csv\n",
      "Loading csv file ./Kenya/fts_incoming_funding_ken.csv\n",
      "Loading csv file ./Kenya/health_ken.csv\n",
      "Loading csv file ./Kenya/fts_requirements_funding_ken.csv\n",
      "Loading csv file ./Kenya/ken_admpop_adm1_2019.csv\n",
      "Loading csv file ./Kenya/ken_admpop_adm0_2019.csv\n",
      "Loading csv file ./Kenya/fts_requirements_funding_globalcluster_ken.csv\n"
     ]
    }
   ],
   "source": [
    "dir = \"./Kenya\"\n",
    "\n",
    "# Array of pandas dataframes\n",
    "dfs = {}\n",
    "\n",
    "for f in os.listdir(dir):\n",
    "    f = f\"{dir}/{f}\"\n",
    "    if '.csv' in f:\n",
    "        print(f\"Loading csv file {f}\")\n",
    "        dfs{f} = pd.read_csv(f)\n",
    "    if '.xlsx' in f:\n",
    "        \n",
    "    "
   ]
  }
 ],
 "metadata": {
  "kernelspec": {
   "display_name": "Python 3.8.9 64-bit",
   "language": "python",
   "name": "python3"
  },
  "language_info": {
   "codemirror_mode": {
    "name": "ipython",
    "version": 3
   },
   "file_extension": ".py",
   "mimetype": "text/x-python",
   "name": "python",
   "nbconvert_exporter": "python",
   "pygments_lexer": "ipython3",
   "version": "3.8.9"
  },
  "orig_nbformat": 4,
  "vscode": {
   "interpreter": {
    "hash": "31f2aee4e71d21fbe5cf8b01ff0e069b9275f58929596ceb00d14d90e3e16cd6"
   }
  }
 },
 "nbformat": 4,
 "nbformat_minor": 2
}

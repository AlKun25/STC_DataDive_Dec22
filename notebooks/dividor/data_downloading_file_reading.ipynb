{
 "cells": [
  {
   "cell_type": "markdown",
   "metadata": {},
   "source": [
    "# Introduction\n",
    "\n",
    "Some handy examples showing how to automatically download files from Google drive, parse csv nd excel and load them into a Postgres database. The examples chosen are for the Save the Children stream of the DataKind 2022 DataDive.\n",
    "\n",
    "- [project brief](https://docs.google.com/document/d/1TQ2TiGK_k8KEIUPzVb3ZSKaxzEBP9s9ZJBI2U_HeQ6U/edit#)\n",
    "- [Google drive with data](https://drive.google.com/drive/folders/1G_CAhpb0xV9zRrV-T5ngA03x-IZ4tGKz)\n",
    "\n",
    "## Setup"
   ]
  },
  {
   "cell_type": "code",
   "execution_count": 56,
   "metadata": {},
   "outputs": [],
   "source": [
    "# If you don't have these installed, uncomment these lines and run\n",
    "#%pip install gdown\n",
    "#%pip install chardet\n",
    "#%pip install sqlalchemy\n",
    "#%pip install psycopg2-binary"
   ]
  },
  {
   "cell_type": "code",
   "execution_count": 13,
   "metadata": {},
   "outputs": [],
   "source": [
    "import gdown\n",
    "import os\n",
    "import pandas as pd\n",
    "import chardet"
   ]
  },
  {
   "cell_type": "markdown",
   "metadata": {},
   "source": [
    "## Examples\n",
    "### Downloading a folder from gdrive"
   ]
  },
  {
   "cell_type": "code",
   "execution_count": 9,
   "metadata": {},
   "outputs": [
    {
     "data": {
      "text/plain": [
       "['/Users/matthewharris/Desktop/git/STC_DataDive_Dec22/notebooks/dividor/Kenya/dbo-foodconsumptionscores.csv',\n",
       " '/Users/matthewharris/Desktop/git/STC_DataDive_Dec22/notebooks/dividor/Kenya/fts_incoming_funding_ken.csv',\n",
       " '/Users/matthewharris/Desktop/git/STC_DataDive_Dec22/notebooks/dividor/Kenya/fts_requirements_funding_cluster_ken.csv',\n",
       " '/Users/matthewharris/Desktop/git/STC_DataDive_Dec22/notebooks/dividor/Kenya/fts_requirements_funding_covid_ken.csv',\n",
       " '/Users/matthewharris/Desktop/git/STC_DataDive_Dec22/notebooks/dividor/Kenya/fts_requirements_funding_globalcluster_ken.csv',\n",
       " '/Users/matthewharris/Desktop/git/STC_DataDive_Dec22/notebooks/dividor/Kenya/fts_requirements_funding_ken.csv',\n",
       " '/Users/matthewharris/Desktop/git/STC_DataDive_Dec22/notebooks/dividor/Kenya/health_ken.csv',\n",
       " '/Users/matthewharris/Desktop/git/STC_DataDive_Dec22/notebooks/dividor/Kenya/hotosm_ken_roads_lines_shp.zip',\n",
       " '/Users/matthewharris/Desktop/git/STC_DataDive_Dec22/notebooks/dividor/Kenya/KE_202207.zip',\n",
       " '/Users/matthewharris/Desktop/git/STC_DataDive_Dec22/notebooks/dividor/Kenya/ken_adm_iebc_20191031_shp.zip',\n",
       " '/Users/matthewharris/Desktop/git/STC_DataDive_Dec22/notebooks/dividor/Kenya/ken_adminboundaries_tabulardata.xlsx',\n",
       " '/Users/matthewharris/Desktop/git/STC_DataDive_Dec22/notebooks/dividor/Kenya/ken_admpop_2019.xlsx',\n",
       " '/Users/matthewharris/Desktop/git/STC_DataDive_Dec22/notebooks/dividor/Kenya/ken_admpop_adm0_2019.csv',\n",
       " '/Users/matthewharris/Desktop/git/STC_DataDive_Dec22/notebooks/dividor/Kenya/ken_admpop_adm1_2019.csv',\n",
       " '/Users/matthewharris/Desktop/git/STC_DataDive_Dec22/notebooks/dividor/Kenya/Kenya - IPC Analysis 2017-2022.xlsx',\n",
       " '/Users/matthewharris/Desktop/git/STC_DataDive_Dec22/notebooks/dividor/Kenya/kenya-3w-final-list-2017.xlsx',\n",
       " '/Users/matthewharris/Desktop/git/STC_DataDive_Dec22/notebooks/dividor/Kenya/kenya-health-facilities-2017_08_02.xlsx',\n",
       " '/Users/matthewharris/Desktop/git/STC_DataDive_Dec22/notebooks/dividor/Kenya/kenyalivehoodshapefiles.zip',\n",
       " '/Users/matthewharris/Desktop/git/STC_DataDive_Dec22/notebooks/dividor/Kenya/per-capita-food-consumption-2017-and-2018.xlsx',\n",
       " '/Users/matthewharris/Desktop/git/STC_DataDive_Dec22/notebooks/dividor/Kenya/retail-prices-for-dry-beans-2017-per-kg.xlsx',\n",
       " '/Users/matthewharris/Desktop/git/STC_DataDive_Dec22/notebooks/dividor/Kenya/retail-prices-for-dry-beans-2018-per-kg.xlsx',\n",
       " '/Users/matthewharris/Desktop/git/STC_DataDive_Dec22/notebooks/dividor/Kenya/retail-prices-for-dry-beans-2019-per-kg.xlsx',\n",
       " '/Users/matthewharris/Desktop/git/STC_DataDive_Dec22/notebooks/dividor/Kenya/value-of-recorded-marketed-agricultural-production-at-current-prices-2014-2018.xlsx',\n",
       " '/Users/matthewharris/Desktop/git/STC_DataDive_Dec22/notebooks/dividor/Kenya/wfp_food_prices_ken.csv']"
      ]
     },
     "execution_count": 9,
     "metadata": {},
     "output_type": "execute_result"
    }
   ],
   "source": [
    "folder_url = \"https://drive.google.com/drive/folders/1G_CAhpb0xV9zRrV-T5ngA03x-IZ4tGKz?usp=share_link\"\n",
    "gdown.download_folder(folder_url, quiet=True, use_cookies=False)"
   ]
  },
  {
   "cell_type": "markdown",
   "metadata": {},
   "source": [
    "## Reading files in a directory to pandas\n",
    "\n",
    "This snippet will read all csv and xls files in a directory into pandas dataframes, create a list of them.\n",
    "\n",
    "Just an example, needs a bit more logic to handle xlsx sheets which hold multiple tables, blank rows etc."
   ]
  },
  {
   "cell_type": "code",
   "execution_count": 33,
   "metadata": {},
   "outputs": [
    {
     "name": "stdout",
     "output_type": "stream",
     "text": [
      "Loading csv file ./Kenya/fts_requirements_funding_covid_ken.csv\n",
      "Loading csv file ./Kenya/dbo-foodconsumptionscores.csv\n",
      "Leading ./Kenya/per-capita-food-consumption-2017-and-2018.xlsx ...\n",
      "Leading ./Kenya/retail-prices-for-dry-beans-2019-per-kg.xlsx ...\n",
      "Leading ./Kenya/value-of-recorded-marketed-agricultural-production-at-current-prices-2014-2018.xlsx ...\n",
      "Loading csv file ./Kenya/wfp_food_prices_ken.csv\n",
      "Loading csv file ./Kenya/fts_requirements_funding_cluster_ken.csv\n",
      "Loading csv file ./Kenya/fts_incoming_funding_ken.csv\n",
      "Loading csv file ./Kenya/health_ken.csv\n",
      "Leading ./Kenya/ken_adminboundaries_tabulardata.xlsx ...\n",
      "Loading csv file ./Kenya/fts_requirements_funding_ken.csv\n",
      "Leading ./Kenya/ken_admpop_2019.xlsx ...\n",
      "Loading csv file ./Kenya/ken_admpop_adm1_2019.csv\n",
      "Loading csv file ./Kenya/ken_admpop_adm0_2019.csv\n",
      "Leading ./Kenya/Kenya - IPC Analysis 2017-2022.xlsx ...\n",
      "Leading ./Kenya/retail-prices-for-dry-beans-2018-per-kg.xlsx ...\n",
      "Loading csv file ./Kenya/fts_requirements_funding_globalcluster_ken.csv\n",
      "Leading ./Kenya/kenya-health-facilities-2017_08_02.xlsx ...\n",
      "Leading ./Kenya/retail-prices-for-dry-beans-2017-per-kg.xlsx ...\n",
      "Leading ./Kenya/kenya-3w-final-list-2017.xlsx ...\n"
     ]
    },
    {
     "name": "stderr",
     "output_type": "stream",
     "text": [
      "/Users/matthewharris/opt/miniconda3/envs/stc_analysis/lib/python3.9/site-packages/openpyxl/worksheet/_reader.py:312: UserWarning: Unknown extension is not supported and will be removed\n",
      "  warn(msg)\n",
      "/Users/matthewharris/opt/miniconda3/envs/stc_analysis/lib/python3.9/site-packages/openpyxl/worksheet/_reader.py:312: UserWarning: Conditional Formatting extension is not supported and will be removed\n",
      "  warn(msg)\n"
     ]
    }
   ],
   "source": [
    "dir = \"./Kenya\"\n",
    "\n",
    "# Array of pandas dataframes\n",
    "dfs = {}\n",
    "\n",
    "for f in os.listdir(dir):\n",
    "    f = f\"{dir}/{f}\"\n",
    "    if '.csv' in f:\n",
    "        print(f\"Loading csv file {f}\")\n",
    "        # Detect encoding\n",
    "        with open(f, 'rb') as rawdata:\n",
    "            r = chardet.detect(rawdata.read(100000))\n",
    "        dfs[f] = pd.read_csv(f, encoding=r['encoding'])\n",
    "    if '.xlsx' in f:\n",
    "        print(f\"Leading {f} ...\")\n",
    "        # Read all sheets in\n",
    "        sheet_to_df_map = pd.read_excel(f, sheet_name=None)\n",
    "        for sheet in sheet_to_df_map:\n",
    "            dfs[f\"{f} - {sheet}\"] =  sheet_to_df_map[sheet]\n"
   ]
  },
  {
   "cell_type": "code",
   "execution_count": 34,
   "metadata": {},
   "outputs": [
    {
     "name": "stdout",
     "output_type": "stream",
     "text": [
      "\n",
      "\n",
      "Here are the shapes of the dataframes we just loaded from directory ./Kenya ... \n",
      "\n",
      "\n",
      "./Kenya/fts_requirements_funding_covid_ken.csv >> (3, 13)\n",
      "./Kenya/dbo-foodconsumptionscores.csv >> (885, 15)\n",
      "./Kenya/per-capita-food-consumption-2017-and-2018.xlsx - Sheet1 >> (21, 4)\n",
      "./Kenya/retail-prices-for-dry-beans-2019-per-kg.xlsx - Prices for Dry Beans, 2019 >> (101, 4)\n",
      "./Kenya/value-of-recorded-marketed-agricultural-production-at-current-prices-2014-2018.xlsx - Sheet1 >> (32, 8)\n",
      "./Kenya/wfp_food_prices_ken.csv >> (14451, 14)\n",
      "./Kenya/fts_requirements_funding_cluster_ken.csv >> (140, 12)\n",
      "./Kenya/fts_incoming_funding_ken.csv >> (183, 37)\n",
      "./Kenya/health_ken.csv >> (9412, 6)\n",
      "./Kenya/ken_adminboundaries_tabulardata.xlsx - Admin2 >> (290, 16)\n",
      "./Kenya/ken_adminboundaries_tabulardata.xlsx - Admin1 >> (47, 14)\n",
      "./Kenya/ken_adminboundaries_tabulardata.xlsx - Admin0 >> (1, 12)\n",
      "./Kenya/fts_requirements_funding_ken.csv >> (47, 12)\n",
      "./Kenya/ken_admpop_2019.xlsx - ken_admpop_ADM0_2019 >> (1, 71)\n",
      "./Kenya/ken_admpop_2019.xlsx - ken_admpop_ADM1_2019 >> (47, 73)\n",
      "./Kenya/ken_admpop_2019.xlsx - ken_admpop_ADM2_2019 >> (345, 74)\n",
      "./Kenya/ken_admpop_2019.xlsx - Metadata >> (16, 2)\n",
      "./Kenya/ken_admpop_adm1_2019.csv >> (345, 97)\n",
      "./Kenya/ken_admpop_adm0_2019.csv >> (292, 95)\n",
      "./Kenya/Kenya - IPC Analysis 2017-2022.xlsx - IPC >> (231, 55)\n",
      "./Kenya/retail-prices-for-dry-beans-2018-per-kg.xlsx - Prices for Dry Beans, 2018 >> (101, 13)\n",
      "./Kenya/fts_requirements_funding_globalcluster_ken.csv >> (170, 12)\n",
      "./Kenya/kenya-health-facilities-2017_08_02.xlsx - Sheet1 >> (8932, 22)\n",
      "./Kenya/retail-prices-for-dry-beans-2017-per-kg.xlsx - Sheet1 >> (86, 13)\n",
      "./Kenya/kenya-3w-final-list-2017.xlsx - LIST >> (1008, 5)\n",
      "./Kenya/kenya-3w-final-list-2017.xlsx - FOR IMPORT >> (42, 14)\n",
      "./Kenya/kenya-3w-final-list-2017.xlsx -  food import >> (42, 3)\n",
      "./Kenya/kenya-3w-final-list-2017.xlsx - Org Lookup >> (65, 7)\n",
      "./Kenya/kenya-3w-final-list-2017.xlsx - ABBREV >> (35, 3)\n",
      "./Kenya/kenya-3w-final-list-2017.xlsx - Pivot >> (3, 1)\n",
      "./Kenya/kenya-3w-final-list-2017.xlsx - County - Abbrev >> (117, 1)\n",
      "./Kenya/kenya-3w-final-list-2017.xlsx - Sheet2 >> (63, 1)\n",
      "./Kenya/kenya-3w-final-list-2017.xlsx - wash >> (43, 12)\n",
      "./Kenya/kenya-3w-final-list-2017.xlsx - shelter >> (17, 2)\n",
      "./Kenya/kenya-3w-final-list-2017.xlsx - protection >> (36, 2)\n",
      "./Kenya/kenya-3w-final-list-2017.xlsx - nutrition >> (8, 2)\n",
      "./Kenya/kenya-3w-final-list-2017.xlsx - health >> (25, 2)\n",
      "./Kenya/kenya-3w-final-list-2017.xlsx - governance >> (21, 2)\n",
      "./Kenya/kenya-3w-final-list-2017.xlsx - emergency >> (33, 2)\n",
      "./Kenya/kenya-3w-final-list-2017.xlsx - food >> (10, 2)\n",
      "./Kenya/kenya-3w-final-list-2017.xlsx - edu >> (23, 2)\n",
      "./Kenya/kenya-3w-final-list-2017.xlsx - drr >> (14, 2)\n",
      "./Kenya/kenya-3w-final-list-2017.xlsx - Table >> (44, 13)\n",
      "Done\n"
     ]
    }
   ],
   "source": [
    "print(f\"\\n\\nHere are the shapes of the dataframes we just loaded from directory {dir} ... \\n\\n\")\n",
    "for key in dfs:\n",
    "    df = dfs[key]\n",
    "    print(f\"{key} >> {df.shape}\")\n",
    "\n",
    "print(\"Done\")"
   ]
  },
  {
   "cell_type": "markdown",
   "metadata": {},
   "source": [
    "## Loading pandas dataframes into a postgres database\n",
    "\n",
    "Roughcode for how one might load all the dataframes into a SQL database. You can install postgres locally, or use docker and run [this](https://hub.docker.com/_/postgres)."
   ]
  },
  {
   "cell_type": "code",
   "execution_count": 75,
   "metadata": {},
   "outputs": [
    {
     "name": "stdout",
     "output_type": "stream",
     "text": [
      "Loading into database table Kenyafts_requirements_funding_covid_kencsv ...\n",
      "Loading into database table Kenyadbo_foodconsumptionscorescsv ...\n",
      "Loading into database table Kenyaper_capita_food_consumption_2017_and_2018xlsx___Sheet1 ...\n",
      "Loading into database table Kenyaretail_prices_for_dry_beans_2019_per_kgxlsx___Prices_for_ ...\n",
      "Loading into database table Kenyavalue_of_recorded_marketed_agricultural_production_at_cur ...\n",
      "Loading into database table Kenyawfp_food_prices_kencsv ...\n",
      "Loading into database table Kenyafts_requirements_funding_cluster_kencsv ...\n",
      "Loading into database table Kenyafts_incoming_funding_kencsv ...\n",
      "Loading into database table Kenyahealth_kencsv ...\n",
      "Loading into database table Kenyaken_adminboundaries_tabulardataxlsx___Admin2 ...\n",
      "Loading into database table Kenyaken_adminboundaries_tabulardataxlsx___Admin1 ...\n",
      "Loading into database table Kenyaken_adminboundaries_tabulardataxlsx___Admin0 ...\n",
      "Loading into database table Kenyafts_requirements_funding_kencsv ...\n",
      "Loading into database table Kenyaken_admpop_2019xlsx___ken_admpop_ADM0_2019 ...\n",
      "Loading into database table Kenyaken_admpop_2019xlsx___ken_admpop_ADM1_2019 ...\n",
      "Loading into database table Kenyaken_admpop_2019xlsx___ken_admpop_ADM2_2019 ...\n",
      "Loading into database table Kenyaken_admpop_2019xlsx___Metadata ...\n",
      "Loading into database table Kenyaken_admpop_adm1_2019csv ...\n",
      "Loading into database table Kenyaken_admpop_adm0_2019csv ...\n",
      "Loading into database table KenyaKenya___IPC_Analysis_2017_2022xlsx___IPC ...\n",
      "Loading into database table Kenyaretail_prices_for_dry_beans_2018_per_kgxlsx___Prices_for_ ...\n",
      "Loading into database table Kenyafts_requirements_funding_globalcluster_kencsv ...\n",
      "Loading into database table Kenyakenya_health_facilities_2017_08_02xlsx___Sheet1 ...\n",
      "Loading into database table Kenyaretail_prices_for_dry_beans_2017_per_kgxlsx___Sheet1 ...\n",
      "Loading into database table Kenyakenya_3w_final_list_2017xlsx___LIST ...\n",
      "Loading into database table Kenyakenya_3w_final_list_2017xlsx___FOR_IMPORT ...\n",
      "Loading into database table Kenyakenya_3w_final_list_2017xlsx____food_import ...\n",
      "Loading into database table Kenyakenya_3w_final_list_2017xlsx___Org_Lookup ...\n",
      "Loading into database table Kenyakenya_3w_final_list_2017xlsx___ABBREV ...\n",
      "Loading into database table Kenyakenya_3w_final_list_2017xlsx___Pivot ...\n",
      "Loading into database table Kenyakenya_3w_final_list_2017xlsx___County___Abbrev ...\n",
      "Loading into database table Kenyakenya_3w_final_list_2017xlsx___Sheet2 ...\n",
      "Loading into database table Kenyakenya_3w_final_list_2017xlsx___wash ...\n",
      "Loading into database table Kenyakenya_3w_final_list_2017xlsx___shelter ...\n",
      "Loading into database table Kenyakenya_3w_final_list_2017xlsx___protection ...\n",
      "Loading into database table Kenyakenya_3w_final_list_2017xlsx___nutrition ...\n",
      "Loading into database table Kenyakenya_3w_final_list_2017xlsx___health ...\n",
      "Loading into database table Kenyakenya_3w_final_list_2017xlsx___governance ...\n",
      "Loading into database table Kenyakenya_3w_final_list_2017xlsx___emergency ...\n",
      "Loading into database table Kenyakenya_3w_final_list_2017xlsx___food ...\n",
      "Loading into database table Kenyakenya_3w_final_list_2017xlsx___edu ...\n",
      "Loading into database table Kenyakenya_3w_final_list_2017xlsx___drr ...\n",
      "Loading into database table Kenyakenya_3w_final_list_2017xlsx___Table ...\n",
      "Done\n"
     ]
    }
   ],
   "source": [
    "from sqlalchemy import create_engine  \n",
    "import sqlalchemy\n",
    "\n",
    "# Set these for your Postgres instance\n",
    "host   = 'localhost' \n",
    "dbname = 'postgres'\n",
    "user   = 'postgres'\n",
    "pwd    = 'postgres' #os.getenv['PWD'] # Don't save passwords in notebooks - that's naughty! :) - use environment variables. :)\n",
    "port   = '5432'\n",
    "\n",
    "engine = create_engine('postgresql+psycopg2://' + user + ':' + pwd + '@' + host +':' + port + '/' + dbname)\n",
    "\n",
    "for k in dfs:\n",
    "    df = dfs[k]\n",
    "    table = k.replace('.','').replace(' ','_').replace('-','_').replace('/','').replace(',','')[0:62]\n",
    "    print(f\"Loading into database table {table} ...\")\n",
    "    df.to_sql(table, engine, if_exists='replace')\n",
    "\n",
    "print(\"Done\")"
   ]
  },
  {
   "cell_type": "markdown",
   "metadata": {},
   "source": [
    "## Query from the database"
   ]
  },
  {
   "cell_type": "code",
   "execution_count": 73,
   "metadata": {},
   "outputs": [
    {
     "data": {
      "text/html": [
       "<div>\n",
       "<style scoped>\n",
       "    .dataframe tbody tr th:only-of-type {\n",
       "        vertical-align: middle;\n",
       "    }\n",
       "\n",
       "    .dataframe tbody tr th {\n",
       "        vertical-align: top;\n",
       "    }\n",
       "\n",
       "    .dataframe thead th {\n",
       "        text-align: right;\n",
       "    }\n",
       "</style>\n",
       "<table border=\"1\" class=\"dataframe\">\n",
       "  <thead>\n",
       "    <tr style=\"text-align: right;\">\n",
       "      <th></th>\n",
       "      <th>index</th>\n",
       "      <th>Unnamed: 0</th>\n",
       "      <th>Unnamed: 1</th>\n",
       "    </tr>\n",
       "  </thead>\n",
       "  <tbody>\n",
       "    <tr>\n",
       "      <th>0</th>\n",
       "      <td>0</td>\n",
       "      <td>Baringo</td>\n",
       "      <td>WVI</td>\n",
       "    </tr>\n",
       "    <tr>\n",
       "      <th>1</th>\n",
       "      <td>1</td>\n",
       "      <td>Embu</td>\n",
       "      <td>Trocaire</td>\n",
       "    </tr>\n",
       "    <tr>\n",
       "      <th>2</th>\n",
       "      <td>2</td>\n",
       "      <td>Garissa</td>\n",
       "      <td>ADESO</td>\n",
       "    </tr>\n",
       "    <tr>\n",
       "      <th>3</th>\n",
       "      <td>3</td>\n",
       "      <td>Homa Bay</td>\n",
       "      <td>PLAN</td>\n",
       "    </tr>\n",
       "    <tr>\n",
       "      <th>4</th>\n",
       "      <td>4</td>\n",
       "      <td>Isiolo</td>\n",
       "      <td>ADESO</td>\n",
       "    </tr>\n",
       "    <tr>\n",
       "      <th>5</th>\n",
       "      <td>5</td>\n",
       "      <td>Kilifi</td>\n",
       "      <td>PLAN</td>\n",
       "    </tr>\n",
       "    <tr>\n",
       "      <th>6</th>\n",
       "      <td>6</td>\n",
       "      <td>Kisumu</td>\n",
       "      <td>PLAN</td>\n",
       "    </tr>\n",
       "    <tr>\n",
       "      <th>7</th>\n",
       "      <td>7</td>\n",
       "      <td>Kitui</td>\n",
       "      <td>Trocaire</td>\n",
       "    </tr>\n",
       "    <tr>\n",
       "      <th>8</th>\n",
       "      <td>8</td>\n",
       "      <td>Kwale</td>\n",
       "      <td>PLAN</td>\n",
       "    </tr>\n",
       "    <tr>\n",
       "      <th>9</th>\n",
       "      <td>9</td>\n",
       "      <td>Machakos</td>\n",
       "      <td>PLAN</td>\n",
       "    </tr>\n",
       "    <tr>\n",
       "      <th>10</th>\n",
       "      <td>10</td>\n",
       "      <td>Marsabit</td>\n",
       "      <td>ADESO, VSF-G</td>\n",
       "    </tr>\n",
       "    <tr>\n",
       "      <th>11</th>\n",
       "      <td>11</td>\n",
       "      <td>Siaya</td>\n",
       "      <td>PLAN, WVI</td>\n",
       "    </tr>\n",
       "    <tr>\n",
       "      <th>12</th>\n",
       "      <td>12</td>\n",
       "      <td>Tharaka Nithi</td>\n",
       "      <td>PLAN, Trocaire</td>\n",
       "    </tr>\n",
       "    <tr>\n",
       "      <th>13</th>\n",
       "      <td>13</td>\n",
       "      <td>Turkana</td>\n",
       "      <td>ADESO, CF, DOL, FAO, ILO, KRCS, OXFAM, Trocair...</td>\n",
       "    </tr>\n",
       "  </tbody>\n",
       "</table>\n",
       "</div>"
      ],
      "text/plain": [
       "    index     Unnamed: 0                                         Unnamed: 1\n",
       "0       0        Baringo                                                WVI\n",
       "1       1           Embu                                           Trocaire\n",
       "2       2        Garissa                                              ADESO\n",
       "3       3       Homa Bay                                               PLAN\n",
       "4       4         Isiolo                                              ADESO\n",
       "5       5         Kilifi                                               PLAN\n",
       "6       6         Kisumu                                               PLAN\n",
       "7       7          Kitui                                           Trocaire\n",
       "8       8          Kwale                                               PLAN\n",
       "9       9       Machakos                                               PLAN\n",
       "10     10       Marsabit                                       ADESO, VSF-G\n",
       "11     11          Siaya                                          PLAN, WVI\n",
       "12     12  Tharaka Nithi                                     PLAN, Trocaire\n",
       "13     13        Turkana  ADESO, CF, DOL, FAO, ILO, KRCS, OXFAM, Trocair..."
      ]
     },
     "metadata": {},
     "output_type": "display_data"
    }
   ],
   "source": [
    "query = ' SELECT * FROM public.\"Kenyakenya_3w_final_list_2017xlsx___drr\"'\n",
    "df = pd.read_sql(query, con=engine)\n",
    "display(df)"
   ]
  }
 ],
 "metadata": {
  "kernelspec": {
   "display_name": "Python 3.9.15 ('stc_analysis')",
   "language": "python",
   "name": "python3"
  },
  "language_info": {
   "codemirror_mode": {
    "name": "ipython",
    "version": 3
   },
   "file_extension": ".py",
   "mimetype": "text/x-python",
   "name": "python",
   "nbconvert_exporter": "python",
   "pygments_lexer": "ipython3",
   "version": "3.9.15"
  },
  "orig_nbformat": 4,
  "vscode": {
   "interpreter": {
    "hash": "d8835cc9f8c294d0e2da9bc51ade18595fb79b378456f304793ca0a4ade81708"
   }
  }
 },
 "nbformat": 4,
 "nbformat_minor": 2
}
